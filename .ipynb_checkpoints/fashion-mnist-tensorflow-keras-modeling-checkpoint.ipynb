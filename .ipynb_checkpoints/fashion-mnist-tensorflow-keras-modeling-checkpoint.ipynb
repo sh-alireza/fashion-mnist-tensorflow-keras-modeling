{
 "cells": [
  {
   "cell_type": "markdown",
   "metadata": {},
   "source": [
    "# Import Necessary Libraries"
   ]
  },
  {
   "cell_type": "code",
   "execution_count": 1,
   "metadata": {
    "execution": {
     "iopub.execute_input": "2022-01-29T07:00:34.822232Z",
     "iopub.status.busy": "2022-01-29T07:00:34.821886Z",
     "iopub.status.idle": "2022-01-29T07:00:34.829404Z",
     "shell.execute_reply": "2022-01-29T07:00:34.828286Z",
     "shell.execute_reply.started": "2022-01-29T07:00:34.822197Z"
    }
   },
   "outputs": [],
   "source": [
    "import tensorflow as tf\n",
    "from tensorflow import keras\n",
    "\n",
    "import matplotlib.pyplot as plt\n",
    "import numpy as np\n",
    "import pandas as pd\n",
    "import seaborn as sns\n",
    "\n",
    "%matplotlib inline"
   ]
  },
  {
   "cell_type": "markdown",
   "metadata": {},
   "source": [
    "# Import the Dataset"
   ]
  },
  {
   "cell_type": "code",
   "execution_count": 2,
   "metadata": {
    "_kg_hide-output": true,
    "execution": {
     "iopub.execute_input": "2022-01-29T07:00:34.832276Z",
     "iopub.status.busy": "2022-01-29T07:00:34.831927Z",
     "iopub.status.idle": "2022-01-29T07:00:37.479353Z",
     "shell.execute_reply": "2022-01-29T07:00:37.478385Z",
     "shell.execute_reply.started": "2022-01-29T07:00:34.832231Z"
    }
   },
   "outputs": [],
   "source": [
    "(X_train, y_train), (X_test, y_test) = keras.datasets.fashion_mnist.load_data()"
   ]
  },
  {
   "cell_type": "code",
   "execution_count": 3,
   "metadata": {
    "execution": {
     "iopub.execute_input": "2022-01-29T07:00:37.482045Z",
     "iopub.status.busy": "2022-01-29T07:00:37.481685Z",
     "iopub.status.idle": "2022-01-29T07:00:37.487514Z",
     "shell.execute_reply": "2022-01-29T07:00:37.486585Z",
     "shell.execute_reply.started": "2022-01-29T07:00:37.481982Z"
    }
   },
   "outputs": [],
   "source": [
    "class_names = [\"T-shirt/top\", \"Trouser\", \"Pullover\", \"Dress\", \"Coat\", \n",
    "               \"Sandal\", \"Shirt\", \"Sneaker\", \"Bag\", \"Ankle boot\"]"
   ]
  },
  {
   "cell_type": "markdown",
   "metadata": {},
   "source": [
    "# Plot a sample list of main pictures"
   ]
  },
  {
   "cell_type": "code",
   "execution_count": 4,
   "metadata": {
    "execution": {
     "iopub.execute_input": "2022-01-29T07:00:37.489434Z",
     "iopub.status.busy": "2022-01-29T07:00:37.489064Z",
     "iopub.status.idle": "2022-01-29T07:00:37.514438Z",
     "shell.execute_reply": "2022-01-29T07:00:37.51344Z",
     "shell.execute_reply.started": "2022-01-29T07:00:37.489379Z"
    }
   },
   "outputs": [],
   "source": [
    "sample_class_pics_indices = []\n",
    "\n",
    "for i in range(10):\n",
    "    \n",
    "    sample_class_pics_indices.append(np.where(y_train == i)[0][0])\n",
    "    "
   ]
  },
  {
   "cell_type": "code",
   "execution_count": 5,
   "metadata": {
    "execution": {
     "iopub.execute_input": "2022-01-29T07:00:37.517936Z",
     "iopub.status.busy": "2022-01-29T07:00:37.517592Z",
     "iopub.status.idle": "2022-01-29T07:00:37.53004Z",
     "shell.execute_reply": "2022-01-29T07:00:37.528956Z",
     "shell.execute_reply.started": "2022-01-29T07:00:37.517889Z"
    }
   },
   "outputs": [
    {
     "data": {
      "text/plain": [
       "[1, 16, 5, 3, 19, 8, 18, 6, 23, 0]"
      ]
     },
     "execution_count": 5,
     "metadata": {},
     "output_type": "execute_result"
    }
   ],
   "source": [
    "sample_class_pics_indices"
   ]
  },
  {
   "cell_type": "code",
   "execution_count": 6,
   "metadata": {
    "execution": {
     "iopub.execute_input": "2022-01-29T07:00:37.532132Z",
     "iopub.status.busy": "2022-01-29T07:00:37.531579Z",
     "iopub.status.idle": "2022-01-29T07:00:38.060224Z",
     "shell.execute_reply": "2022-01-29T07:00:38.059476Z",
     "shell.execute_reply.started": "2022-01-29T07:00:37.53206Z"
    }
   },
   "outputs": [
    {
     "data": {
      "image/png": "[encoded data removed]",
      "text/plain": [
       "<Figure size 1296x576 with 10 Axes>"
      ]
     },
     "metadata": {},
     "output_type": "display_data"
    }
   ],
   "source": [
    "fig, axes = plt.subplots(nrows=2, ncols=5, figsize = (18,8))\n",
    "\n",
    "for i in range(2):\n",
    "    for j in range(5):\n",
    "        axes[i,j].matshow(X_train[sample_class_pics_indices[5*i+j]], cmap='Greys')\n",
    "        axes[i,j].set_title(class_names[5*i+j], y = 1.05)\n",
    "        axes[i,j].set_xticks([])\n",
    "        axes[i,j].set_yticks([])\n",
    "        \n",
    "plt.show()"
   ]
  },
  {
   "cell_type": "markdown",
   "metadata": {},
   "source": [
    "# Scaling"
   ]
  },
  {
   "cell_type": "code",
   "execution_count": 7,
   "metadata": {
    "execution": {
     "iopub.execute_input": "2022-01-29T07:00:38.062215Z",
     "iopub.status.busy": "2022-01-29T07:00:38.061613Z",
     "iopub.status.idle": "2022-01-29T07:00:38.233375Z",
     "shell.execute_reply": "2022-01-29T07:00:38.231911Z",
     "shell.execute_reply.started": "2022-01-29T07:00:38.062164Z"
    }
   },
   "outputs": [],
   "source": [
    "X_train = X_train/255\n",
    "X_test = X_test/255"
   ]
  },
  {
   "cell_type": "markdown",
   "metadata": {},
   "source": [
    "# Building the Model"
   ]
  },
  {
   "cell_type": "code",
   "execution_count": 8,
   "metadata": {
    "execution": {
     "iopub.execute_input": "2022-01-29T07:00:38.235305Z",
     "iopub.status.busy": "2022-01-29T07:00:38.234939Z",
     "iopub.status.idle": "2022-01-29T07:00:38.242158Z",
     "shell.execute_reply": "2022-01-29T07:00:38.240845Z",
     "shell.execute_reply.started": "2022-01-29T07:00:38.23526Z"
    }
   },
   "outputs": [
    {
     "data": {
      "text/plain": [
       "(60000, 28, 28)"
      ]
     },
     "execution_count": 8,
     "metadata": {},
     "output_type": "execute_result"
    }
   ],
   "source": [
    "X_train.shape"
   ]
  },
  {
   "cell_type": "code",
   "execution_count": 9,
   "metadata": {
    "_kg_hide-output": true,
    "execution": {
     "iopub.execute_input": "2022-01-29T07:00:38.244011Z",
     "iopub.status.busy": "2022-01-29T07:00:38.24377Z",
     "iopub.status.idle": "2022-01-29T07:03:24.182921Z",
     "shell.execute_reply": "2022-01-29T07:03:24.18179Z",
     "shell.execute_reply.started": "2022-01-29T07:00:38.243982Z"
    },
    "scrolled": true
   },
   "outputs": [
    {
     "name": "stdout",
     "output_type": "stream",
     "text": [
      "Epoch 1/20\n",
      "1875/1875 [==============================] - 19s 7ms/step - loss: 0.4733 - accuracy: 0.8304\n",
      "Epoch 2/20\n",
      "1875/1875 [==============================] - 12s 6ms/step - loss: 0.3565 - accuracy: 0.8689\n",
      "Epoch 3/20\n",
      "1875/1875 [==============================] - 10s 5ms/step - loss: 0.3210 - accuracy: 0.8812\n",
      "Epoch 4/20\n",
      "1875/1875 [==============================] - 12s 6ms/step - loss: 0.2989 - accuracy: 0.8885\n",
      "Epoch 5/20\n",
      "1875/1875 [==============================] - 11s 6ms/step - loss: 0.2800 - accuracy: 0.8949\n",
      "Epoch 6/20\n",
      "1875/1875 [==============================] - 11s 6ms/step - loss: 0.2639 - accuracy: 0.9012\n",
      "Epoch 7/20\n",
      "1875/1875 [==============================] - 11s 6ms/step - loss: 0.2521 - accuracy: 0.9052\n",
      "Epoch 8/20\n",
      "1875/1875 [==============================] - 10s 6ms/step - loss: 0.2419 - accuracy: 0.9087\n",
      "Epoch 9/20\n",
      "1875/1875 [==============================] - 11s 6ms/step - loss: 0.2335 - accuracy: 0.9119\n",
      "Epoch 10/20\n",
      "1875/1875 [==============================] - 11s 6ms/step - loss: 0.2237 - accuracy: 0.9146\n",
      "Epoch 11/20\n",
      "1875/1875 [==============================] - 10s 6ms/step - loss: 0.2157 - accuracy: 0.9178\n",
      "Epoch 12/20\n",
      "1875/1875 [==============================] - 10s 6ms/step - loss: 0.2071 - accuracy: 0.9211\n",
      "Epoch 13/20\n",
      "1875/1875 [==============================] - 10s 6ms/step - loss: 0.1988 - accuracy: 0.9242\n",
      "Epoch 14/20\n",
      "1875/1875 [==============================] - 10s 5ms/step - loss: 0.1954 - accuracy: 0.9261\n",
      "Epoch 15/20\n",
      "1875/1875 [==============================] - 10s 6ms/step - loss: 0.1848 - accuracy: 0.9299\n",
      "Epoch 16/20\n",
      "1875/1875 [==============================] - 10s 6ms/step - loss: 0.1824 - accuracy: 0.9307\n",
      "Epoch 17/20\n",
      "1875/1875 [==============================] - 10s 5ms/step - loss: 0.1747 - accuracy: 0.9325\n",
      "Epoch 18/20\n",
      "1875/1875 [==============================] - 10s 6ms/step - loss: 0.1696 - accuracy: 0.9352\n",
      "Epoch 19/20\n",
      "1875/1875 [==============================] - 10s 5ms/step - loss: 0.1641 - accuracy: 0.9373\n",
      "Epoch 20/20\n",
      "1875/1875 [==============================] - 10s 6ms/step - loss: 0.1614 - accuracy: 0.9384\n"
     ]
    },
    {
     "data": {
      "text/plain": [
       "<keras.callbacks.History at 0x1cd9b18a190>"
      ]
     },
     "execution_count": 9,
     "metadata": {},
     "output_type": "execute_result"
    }
   ],
   "source": [
    "model = keras.Sequential([\n",
    "    keras.layers.Flatten(input_shape =(28,28)),\n",
    "    keras.layers.Dense(400, activation = 'relu'),\n",
    "    keras.layers.Dense(100, activation = 'relu'),\n",
    "    keras.layers.Dense(10, activation = 'softmax')\n",
    "])\n",
    "\n",
    "model.compile(\n",
    "    optimizer = 'adam', \n",
    "    loss = 'sparse_categorical_crossentropy',\n",
    "    metrics = ['accuracy']\n",
    ")\n",
    "\n",
    "model.fit(X_train, y_train, epochs = 20)"
   ]
  },
  {
   "cell_type": "code",
   "execution_count": 10,
   "metadata": {
    "execution": {
     "iopub.execute_input": "2022-01-29T07:03:24.185348Z",
     "iopub.status.busy": "2022-01-29T07:03:24.184951Z",
     "iopub.status.idle": "2022-01-29T07:03:25.226387Z",
     "shell.execute_reply": "2022-01-29T07:03:25.225522Z",
     "shell.execute_reply.started": "2022-01-29T07:03:24.185283Z"
    }
   },
   "outputs": [
    {
     "name": "stdout",
     "output_type": "stream",
     "text": [
      "313/313 [==============================] - 1s 3ms/step - loss: 0.3744 - accuracy: 0.8916\n"
     ]
    },
    {
     "data": {
      "text/plain": [
       "[0.37436553835868835, 0.8916000127792358]"
      ]
     },
     "execution_count": 10,
     "metadata": {},
     "output_type": "execute_result"
    }
   ],
   "source": [
    "model.evaluate(X_test, y_test)"
   ]
  },
  {
   "cell_type": "code",
   "execution_count": 11,
   "metadata": {
    "execution": {
     "iopub.execute_input": "2022-01-29T07:03:25.230416Z",
     "iopub.status.busy": "2022-01-29T07:03:25.230146Z",
     "iopub.status.idle": "2022-01-29T07:03:25.950147Z",
     "shell.execute_reply": "2022-01-29T07:03:25.94943Z",
     "shell.execute_reply.started": "2022-01-29T07:03:25.230386Z"
    }
   },
   "outputs": [],
   "source": [
    "y_pred = model.predict(X_test)"
   ]
  },
  {
   "cell_type": "code",
   "execution_count": 12,
   "metadata": {
    "execution": {
     "iopub.execute_input": "2022-01-29T07:03:25.95189Z",
     "iopub.status.busy": "2022-01-29T07:03:25.951641Z",
     "iopub.status.idle": "2022-01-29T07:03:25.957685Z",
     "shell.execute_reply": "2022-01-29T07:03:25.956837Z",
     "shell.execute_reply.started": "2022-01-29T07:03:25.951859Z"
    }
   },
   "outputs": [
    {
     "data": {
      "text/plain": [
       "(10000, 10)"
      ]
     },
     "execution_count": 12,
     "metadata": {},
     "output_type": "execute_result"
    }
   ],
   "source": [
    "y_pred.shape"
   ]
  },
  {
   "cell_type": "code",
   "execution_count": 13,
   "metadata": {
    "execution": {
     "iopub.execute_input": "2022-01-29T07:03:25.959539Z",
     "iopub.status.busy": "2022-01-29T07:03:25.959196Z",
     "iopub.status.idle": "2022-01-29T07:03:25.998819Z",
     "shell.execute_reply": "2022-01-29T07:03:25.997739Z",
     "shell.execute_reply.started": "2022-01-29T07:03:25.959507Z"
    }
   },
   "outputs": [],
   "source": [
    "y_pred_labels = [np.argmax(i) for i in y_pred]"
   ]
  },
  {
   "cell_type": "markdown",
   "metadata": {},
   "source": [
    "# Confusion Matrix & Heatmap"
   ]
  },
  {
   "cell_type": "code",
   "execution_count": 14,
   "metadata": {
    "execution": {
     "iopub.execute_input": "2022-01-29T07:03:26.000788Z",
     "iopub.status.busy": "2022-01-29T07:03:26.000466Z",
     "iopub.status.idle": "2022-01-29T07:03:26.038643Z",
     "shell.execute_reply": "2022-01-29T07:03:26.037418Z",
     "shell.execute_reply.started": "2022-01-29T07:03:26.000744Z"
    }
   },
   "outputs": [
    {
     "data": {
      "text/plain": [
       "<tf.Tensor: shape=(10, 10), dtype=int32, numpy=\n",
       "array([[852,   1,  17,  25,   6,   1,  93,   0,   5,   0],\n",
       "       [  4, 976,   0,  13,   3,   0,   3,   0,   1,   0],\n",
       "       [ 14,   0, 828,   8, 105,   1,  42,   0,   2,   0],\n",
       "       [ 21,   6,   7, 893,  47,   0,  22,   0,   4,   0],\n",
       "       [  0,   0,  83,  21, 851,   0,  42,   0,   3,   0],\n",
       "       [  0,   0,   1,   0,   0, 951,   0,  18,   2,  28],\n",
       "       [120,   0, 104,  29,  76,   0, 658,   0,  13,   0],\n",
       "       [  0,   0,   0,   0,   0,   6,   0, 951,   0,  43],\n",
       "       [  2,   0,   3,   2,   6,   2,   2,   2, 980,   1],\n",
       "       [  0,   0,   0,   0,   0,   4,   1,  19,   0, 976]])>"
      ]
     },
     "execution_count": 14,
     "metadata": {},
     "output_type": "execute_result"
    }
   ],
   "source": [
    "confusion_matrix = tf.math.confusion_matrix(labels = y_test, predictions=y_pred_labels)\n",
    "\n",
    "confusion_matrix"
   ]
  },
  {
   "cell_type": "code",
   "execution_count": 15,
   "metadata": {
    "_kg_hide-input": true,
    "_kg_hide-output": false,
    "execution": {
     "iopub.execute_input": "2022-01-29T07:03:26.040585Z",
     "iopub.status.busy": "2022-01-29T07:03:26.040212Z",
     "iopub.status.idle": "2022-01-29T07:03:26.994417Z",
     "shell.execute_reply": "2022-01-29T07:03:26.993405Z",
     "shell.execute_reply.started": "2022-01-29T07:03:26.040541Z"
    }
   },
   "outputs": [
    {
     "data": {
      "image/png": "[encoded data removed]",
      "text/plain": [
       "<Figure size 1296x720 with 2 Axes>"
      ]
     },
     "metadata": {
      "needs_background": "light"
     },
     "output_type": "display_data"
    }
   ],
   "source": [
    "plt.figure(figsize = (18,10))\n",
    "sns.heatmap(confusion_matrix, annot=True, fmt='d', xticklabels=class_names, yticklabels=class_names)\n",
    "\n",
    "plt.xlabel('Predicted', fontsize = 20)\n",
    "plt.ylabel('Truth', fontsize = 20)\n",
    "plt.title('Confusion Matrix Heatmap', fontsize = 25, y=1.03)\n",
    "\n",
    "plt.show()"
   ]
  },
  {
   "cell_type": "markdown",
   "metadata": {
    "_kg_hide-output": false
   },
   "source": [
    "# Wrong Predicted Labels & Conclusion"
   ]
  },
  {
   "cell_type": "code",
   "execution_count": 16,
   "metadata": {
    "execution": {
     "iopub.execute_input": "2022-01-29T07:03:26.996515Z",
     "iopub.status.busy": "2022-01-29T07:03:26.995845Z",
     "iopub.status.idle": "2022-01-29T07:03:27.044554Z",
     "shell.execute_reply": "2022-01-29T07:03:27.043172Z",
     "shell.execute_reply.started": "2022-01-29T07:03:26.996465Z"
    }
   },
   "outputs": [],
   "source": [
    "wrong_pred_labels = []\n",
    "wrong_test_labels = []\n",
    "for i, j in zip(y_test, y_pred_labels):\n",
    "    if i != j:\n",
    "        wrong_pred_labels.append(j)\n",
    "        wrong_test_labels.append(i)"
   ]
  },
  {
   "cell_type": "code",
   "execution_count": 17,
   "metadata": {
    "execution": {
     "iopub.execute_input": "2022-01-29T07:03:27.046861Z",
     "iopub.status.busy": "2022-01-29T07:03:27.045811Z",
     "iopub.status.idle": "2022-01-29T07:03:27.06165Z",
     "shell.execute_reply": "2022-01-29T07:03:27.060672Z",
     "shell.execute_reply.started": "2022-01-29T07:03:27.046811Z"
    }
   },
   "outputs": [
    {
     "data": {
      "text/plain": [
       "0.1084"
      ]
     },
     "execution_count": 17,
     "metadata": {},
     "output_type": "execute_result"
    }
   ],
   "source": [
    "len(wrong_pred_labels)/len(y_test)"
   ]
  },
  {
   "cell_type": "code",
   "execution_count": 18,
   "metadata": {
    "execution": {
     "iopub.execute_input": "2022-01-29T07:03:27.06379Z",
     "iopub.status.busy": "2022-01-29T07:03:27.063271Z",
     "iopub.status.idle": "2022-01-29T07:03:27.101071Z",
     "shell.execute_reply": "2022-01-29T07:03:27.099544Z",
     "shell.execute_reply.started": "2022-01-29T07:03:27.063742Z"
    }
   },
   "outputs": [],
   "source": [
    "wrong_class_counts = [wrong_test_labels.count(i) for i in range(10)]"
   ]
  },
  {
   "cell_type": "code",
   "execution_count": 19,
   "metadata": {
    "_kg_hide-input": false,
    "_kg_hide-output": false,
    "execution": {
     "iopub.execute_input": "2022-01-29T07:03:27.106283Z",
     "iopub.status.busy": "2022-01-29T07:03:27.104128Z",
     "iopub.status.idle": "2022-01-29T07:03:27.113056Z",
     "shell.execute_reply": "2022-01-29T07:03:27.112159Z",
     "shell.execute_reply.started": "2022-01-29T07:03:27.106223Z"
    }
   },
   "outputs": [
    {
     "data": {
      "text/plain": [
       "[148, 24, 172, 107, 149, 49, 342, 49, 20, 24]"
      ]
     },
     "execution_count": 19,
     "metadata": {},
     "output_type": "execute_result"
    }
   ],
   "source": [
    "wrong_class_counts"
   ]
  },
  {
   "cell_type": "code",
   "execution_count": 20,
   "metadata": {
    "_kg_hide-input": false,
    "execution": {
     "iopub.execute_input": "2022-01-29T07:11:41.566705Z",
     "iopub.status.busy": "2022-01-29T07:11:41.566273Z",
     "iopub.status.idle": "2022-01-29T07:11:41.577173Z",
     "shell.execute_reply": "2022-01-29T07:11:41.576124Z",
     "shell.execute_reply.started": "2022-01-29T07:11:41.566665Z"
    }
   },
   "outputs": [
    {
     "name": "stdout",
     "output_type": "stream",
     "text": [
      "WRONG CLASS PERCENTAGE \n",
      "\n",
      "T-shirt/top: 0.14\n",
      "Trouser: 0.02\n",
      "Pullover: 0.16\n",
      "Dress: 0.1\n",
      "Coat: 0.14\n",
      "Sandal: 0.05\n",
      "Shirt: 0.32\n",
      "Sneaker: 0.05\n",
      "Bag: 0.02\n",
      "Ankle boot: 0.02\n"
     ]
    }
   ],
   "source": [
    "print(\"WRONG CLASS PERCENTAGE \\n\")\n",
    "\n",
    "for i in range(10):\n",
    "    \n",
    "    print(class_names[i]+':', round(wrong_class_counts[i]/sum(wrong_class_counts),2))\n"
   ]
  }
 ],
 "metadata": {
  "kernelspec": {
   "display_name": "Python 3",
   "language": "python",
   "name": "python3"
  },
  "language_info": {
   "codemirror_mode": {
    "name": "ipython",
    "version": 3
   },
   "file_extension": ".py",
   "mimetype": "text/x-python",
   "name": "python",
   "nbconvert_exporter": "python",
   "pygments_lexer": "ipython3",
   "version": "3.8.8"
  }
 },
 "nbformat": 4,
 "nbformat_minor": 4
}
